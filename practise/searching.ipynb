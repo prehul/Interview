{
 "cells": [
  {
   "cell_type": "code",
   "execution_count": 5,
   "metadata": {},
   "outputs": [
    {
     "data": {
      "text/plain": [
       "3"
      ]
     },
     "execution_count": 5,
     "metadata": {},
     "output_type": "execute_result"
    }
   ],
   "source": [
    "def binary_search(arr,ele):\n",
    "    low = 0\n",
    "    high = len(arr)-1\n",
    "    mid = (low+high)//2\n",
    "    \n",
    "    while low <= high:\n",
    "        if mid < ele:\n",
    "            mid = mid +1\n",
    "        elif mid > ele:\n",
    "            mid = mid -1\n",
    "        else:\n",
    "            return mid\n",
    "    \n",
    "arr = [1,2,3,4,5,6,7]\n",
    "ele = 3\n",
    "binary_search(arr,ele)"
   ]
  }
 ],
 "metadata": {
  "kernelspec": {
   "display_name": "Python 3",
   "language": "python",
   "name": "python3"
  },
  "language_info": {
   "codemirror_mode": {
    "name": "ipython",
    "version": 3
   },
   "file_extension": ".py",
   "mimetype": "text/x-python",
   "name": "python",
   "nbconvert_exporter": "python",
   "pygments_lexer": "ipython3",
   "version": "3.10.0"
  },
  "orig_nbformat": 4
 },
 "nbformat": 4,
 "nbformat_minor": 2
}
