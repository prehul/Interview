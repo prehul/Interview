{
 "cells": [
  {
   "cell_type": "code",
   "execution_count": 2,
   "metadata": {},
   "outputs": [
    {
     "name": "stdout",
     "output_type": "stream",
     "text": [
      "[1, 2, 3, 4, 5, 6]\n"
     ]
    }
   ],
   "source": [
    "def bubble_Sort(arr):\n",
    "    n = len(arr)\n",
    "    for i in range(n):\n",
    "        flag = True\n",
    "        for j in range(n-i-1):\n",
    "            if arr[j] > arr[j+1]:\n",
    "                arr[j] , arr[j+1] =  arr[j+1], arr[j]\n",
    "                flag = False\n",
    "        if flag:\n",
    "            break\n",
    "    \n",
    "    return arr\n",
    "\n",
    "arr = [1,3,2,4,6,5]\n",
    "print(bubble_Sort(arr))\n"
   ]
  },
  {
   "cell_type": "code",
   "execution_count": 11,
   "metadata": {},
   "outputs": [
    {
     "data": {
      "text/plain": [
       "[1, 2, 3, 4, 5, 6]"
      ]
     },
     "execution_count": 11,
     "metadata": {},
     "output_type": "execute_result"
    }
   ],
   "source": [
    "def insertionsort(arr):\n",
    "    n = len(arr)\n",
    "    for i in range(1,n):\n",
    "        key = arr[i]\n",
    "        j = i-1\n",
    "        \n",
    "        while j >= 0 and arr[j] > key:\n",
    "            arr[j+1] = arr[j]\n",
    "            j -=1            \n",
    "        arr[j+1] = key\n",
    "    return arr\n",
    "\n",
    "arr = [3,4,5,2,1,6]\n",
    "insertionsort(arr)"
   ]
  },
  {
   "cell_type": "code",
   "execution_count": 16,
   "metadata": {},
   "outputs": [
    {
     "name": "stdout",
     "output_type": "stream",
     "text": [
      "[1, 2, 3, 4, 5]\n"
     ]
    }
   ],
   "source": [
    "def merge(left,right):\n",
    "    if len(left) == 0:\n",
    "        return right\n",
    "    if len(right) == 0:\n",
    "        return left\n",
    "    \n",
    "    result = []\n",
    "    left_index = right_index = 0\n",
    "    \n",
    "    while len(result) < len(left) + len(right):\n",
    "        if left[left_index] <= right[right_index]:\n",
    "            result.append(left[left_index])\n",
    "            left_index +=1\n",
    "        else:\n",
    "            result.append(right[right_index])\n",
    "            right_index +=1\n",
    "            \n",
    "        \n",
    "        if right_index == len(right):\n",
    "                result += left[left_index:]\n",
    "                break\n",
    "            \n",
    "        if left_index == len(left):\n",
    "            result += right[right_index:]\n",
    "            break\n",
    "                \n",
    "        \n",
    "    return result\n",
    "\n",
    "# def merge_sort(arr):\n",
    "#     if len(arr) < 2:\n",
    "#         return arr\n",
    "#     mid = len(arr)//2\n",
    "#     merge(left=merge_sort(arr[:mid]),right= merge_sort(arr[mid:]) )\n",
    "# arr = [2,4,3,1,5,7,6]\n",
    "# merge_sort(arr)\n",
    "\n",
    "\n",
    "def merge_sort(array):\n",
    "    if len(array) < 2:\n",
    "        return array\n",
    "    midpoint = len(array) // 2\n",
    "\n",
    "    return merge(\n",
    "        left=merge_sort(array[:midpoint]),\n",
    "        right=merge_sort(array[midpoint:]))\n",
    "    \n",
    "d = merge_sort([1,2,4,5,3])\n",
    "print(d)"
   ]
  },
  {
   "cell_type": "code",
   "execution_count": 22,
   "metadata": {},
   "outputs": [
    {
     "data": {
      "text/plain": [
       "[1, 2, 3, 4, 5]"
      ]
     },
     "execution_count": 22,
     "metadata": {},
     "output_type": "execute_result"
    }
   ],
   "source": [
    "def merge(left, right):\n",
    "    if len(left) == 0:\n",
    "        return right\n",
    "    \n",
    "    if len(right) == 0:\n",
    "        return left\n",
    "\n",
    "    left_index = right_index = 0\n",
    "    result = []\n",
    "    \n",
    "    while len(result) < len(left) + len(right):\n",
    "        if left[left_index] <= right[right_index]:\n",
    "            result.append(left[left_index])\n",
    "            left_index +=1\n",
    "        else:\n",
    "            result.append( right[right_index])\n",
    "            right_index +=1\n",
    "        \n",
    "        if len(right) == right_index:\n",
    "            result +=  left[left_index:] \n",
    "            break\n",
    "        \n",
    "        if len(left) == left_index:\n",
    "            result +=  right[right_index:] \n",
    "            break\n",
    "        \n",
    "    return result\n",
    "\n",
    "def merge_sort(arr):\n",
    "    if len(arr) < 2:\n",
    "        return arr\n",
    "    mid = len(arr)//2\n",
    "    return merge(left = merge_sort(arr[:mid]),\n",
    "                 right= merge_sort(arr[mid:])\n",
    "                )\n",
    "merge_sort([1,3,5,4,2])  "
   ]
  },
  {
   "cell_type": "code",
   "execution_count": 24,
   "metadata": {},
   "outputs": [
    {
     "data": {
      "text/plain": [
       "[1, 2, 3, 4, 5]"
      ]
     },
     "execution_count": 24,
     "metadata": {},
     "output_type": "execute_result"
    }
   ],
   "source": [
    "from random import randint\n",
    "\n",
    "def quicksort(arr):\n",
    "    if len(arr) < 2:\n",
    "        return arr\n",
    "    \n",
    "    pivot = arr[randint(0, len(arr)-1)  ]\n",
    "    low,same,high =[],[],[]\n",
    "    \n",
    "    for item in arr:\n",
    "        if item < pivot:\n",
    "            low.append(item)\n",
    "        elif item == same:\n",
    "            same.append(item)\n",
    "        else:\n",
    "            high.append(item)\n",
    "    return quicksort(low) + same + quicksort(high)\n",
    "\n",
    "arr = [3,2,4,1,5]\n",
    "quicksort(arr)\n",
    "    "
   ]
  }
 ],
 "metadata": {
  "kernelspec": {
   "display_name": "Python 3",
   "language": "python",
   "name": "python3"
  },
  "language_info": {
   "codemirror_mode": {
    "name": "ipython",
    "version": 3
   },
   "file_extension": ".py",
   "mimetype": "text/x-python",
   "name": "python",
   "nbconvert_exporter": "python",
   "pygments_lexer": "ipython3",
   "version": "3.10.0"
  },
  "orig_nbformat": 4
 },
 "nbformat": 4,
 "nbformat_minor": 2
}
