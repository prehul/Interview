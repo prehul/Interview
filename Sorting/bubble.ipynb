{
 "cells": [
  {
   "cell_type": "code",
   "execution_count": 1,
   "metadata": {},
   "outputs": [
    {
     "name": "stdout",
     "output_type": "stream",
     "text": [
      "[1, 2, 3, 4, 5, 6]\n"
     ]
    }
   ],
   "source": [
    "def bubble_sort(array):\n",
    "    n = len(array)\n",
    "    for i in range(n):\n",
    "        already_sorted = True\n",
    "        for j in range(n - i - 1):\n",
    "            if array[j] > array[j + 1]:\n",
    "                array[j], array[j + 1] = array[j + 1], array[j]\n",
    "                already_sorted = False\n",
    "        if already_sorted:\n",
    "            break\n",
    "    return array\n",
    "\n",
    "print(bubble_sort([1,3,2,4,6,5]))"
   ]
  },
  {
   "cell_type": "code",
   "execution_count": 9,
   "metadata": {},
   "outputs": [
    {
     "name": "stdout",
     "output_type": "stream",
     "text": [
      "[1, 2, 3, 4, 5, 6, 7, 8]\n"
     ]
    }
   ],
   "source": [
    "def bubblesort(arr):\n",
    "    n = len(arr)\n",
    "    \n",
    "    for i in range(n):\n",
    "        sorted_flag = True\n",
    "        for j in range(n -i-1):\n",
    "            if arr[j] > arr[j+1]:\n",
    "                arr[j] , arr[j+1] = arr[j+1],arr[j]\n",
    "                sorted_flag = False\n",
    "                \n",
    "        if sorted_flag:\n",
    "            break\n",
    "    return arr\n",
    "arr = [ 1,4,3,5,7,2,8,6]\n",
    "a = bubble_sort(arr)\n",
    "print(a)"
   ]
  }
 ],
 "metadata": {
  "kernelspec": {
   "display_name": "Python 3",
   "language": "python",
   "name": "python3"
  },
  "language_info": {
   "codemirror_mode": {
    "name": "ipython",
    "version": 3
   },
   "file_extension": ".py",
   "mimetype": "text/x-python",
   "name": "python",
   "nbconvert_exporter": "python",
   "pygments_lexer": "ipython3",
   "version": "3.11.2"
  },
  "orig_nbformat": 4
 },
 "nbformat": 4,
 "nbformat_minor": 2
}
