{
 "cells": [
  {
   "cell_type": "code",
   "execution_count": 3,
   "metadata": {},
   "outputs": [],
   "source": [
    "def merge(left, right):\n",
    "    if len(left) == 0:\n",
    "        return right\n",
    "    if len(right) == 0:\n",
    "        return left\n",
    "    result = []\n",
    "    index_left = index_right = 0\n",
    "    while len(result) < len(left) + len(right):\n",
    "        if left[index_left] <= right[index_right]:\n",
    "            result.append(left[index_left])\n",
    "            index_left += 1\n",
    "        else:\n",
    "            result.append(right[index_right])\n",
    "            index_right += 1\n",
    "            \n",
    "        if index_right == len(right):\n",
    "            result += left[index_left:]\n",
    "            break\n",
    "        \n",
    "        if index_left == len(left):\n",
    "            result += right[index_right:]\n",
    "            break\n",
    "    return result"
   ]
  },
  {
   "cell_type": "code",
   "execution_count": 4,
   "metadata": {},
   "outputs": [
    {
     "name": "stdout",
     "output_type": "stream",
     "text": [
      "[1, 2, 3, 4, 5]\n"
     ]
    }
   ],
   "source": [
    "def merge_sort(array):\n",
    "    if len(array) < 2:\n",
    "        return array\n",
    "    midpoint = len(array) // 2\n",
    "\n",
    "    return merge(\n",
    "        left=merge_sort(array[:midpoint]),\n",
    "        right=merge_sort(array[midpoint:]))\n",
    "    \n",
    "d = merge_sort([1,2,4,5,3])\n",
    "print(d)"
   ]
  },
  {
   "cell_type": "code",
   "execution_count": 3,
   "metadata": {},
   "outputs": [
    {
     "name": "stdout",
     "output_type": "stream",
     "text": [
      "[1, 2, 3, 4, 5]\n"
     ]
    }
   ],
   "source": [
    "def merge(left, right):\n",
    "    if len(left) == 0:\n",
    "        return right\n",
    "    if len(right) == 0:\n",
    "        return left\n",
    "    \n",
    "    result = []\n",
    "    left_index = right_index = 0\n",
    "    \n",
    "    while len(result) < len(left) + len(right):\n",
    "        if left[left_index] <= right[right_index]:\n",
    "            result.append(left[left_index])\n",
    "            left_index +=1\n",
    "        else:\n",
    "            result.append(right[right_index])\n",
    "            right_index +=1\n",
    "            \n",
    "       \n",
    "        if right_index == len(right):\n",
    "            result += left[left_index:]\n",
    "            break\n",
    "        \n",
    "        if left_index == len(left):\n",
    "            result += right[right_index:]\n",
    "            break\n",
    "            \n",
    "\n",
    "    return result\n",
    "\n",
    "\n",
    "\n",
    "def merge_sort(array):\n",
    "    if len(array) < 2:\n",
    "        return array\n",
    "    midpoint = len(array) // 2\n",
    "\n",
    "    return merge(\n",
    "        left=merge_sort(array[:midpoint]),\n",
    "        right=merge_sort(array[midpoint:]))\n",
    "    \n",
    "d = merge_sort([1,2,4,5,3])\n",
    "print(d)"
   ]
  }
 ],
 "metadata": {
  "kernelspec": {
   "display_name": "Python 3",
   "language": "python",
   "name": "python3"
  },
  "language_info": {
   "codemirror_mode": {
    "name": "ipython",
    "version": 3
   },
   "file_extension": ".py",
   "mimetype": "text/x-python",
   "name": "python",
   "nbconvert_exporter": "python",
   "pygments_lexer": "ipython3",
   "version": "3.11.2"
  },
  "orig_nbformat": 4
 },
 "nbformat": 4,
 "nbformat_minor": 2
}
